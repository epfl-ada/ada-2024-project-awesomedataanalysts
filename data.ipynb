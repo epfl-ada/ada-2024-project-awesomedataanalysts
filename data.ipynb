{
 "cells": [
  {
   "cell_type": "code",
   "execution_count": 1,
   "id": "21040796-d8b1-4549-a1a8-3034b1c49e4f",
   "metadata": {},
   "outputs": [],
   "source": [
    "import matplotlib.pyplot as plt\n",
    "import numpy as np\n",
    "import pandas as pd\n",
    "\n",
    "from src.data_loading import iter_reviews, load_beers_breweries_users\n",
    "from src.data_processing import add_review_columns\n",
    "from src.utils import tqdm"
   ]
  },
  {
   "cell_type": "code",
   "execution_count": 2,
   "id": "a2aa8c4c-56f5-4667-be32-fc414ebd775d",
   "metadata": {},
   "outputs": [
    {
     "name": "stdout",
     "output_type": "stream",
     "text": [
      "shape of beers dataset : (442081, 14)\n",
      "shape of breweries dataset: (24189, 4)\n",
      "shape of users dataset: (70174, 5)\n"
     ]
    },
    {
     "name": "stderr",
     "output_type": "stream",
     "text": [
      "100%|█████████████████████████████████████████████████| 7122074/7122074 [00:37<00:00, 189287.43it/s]\n",
      "100%|█████████████████████████████████████████████████| 7122074/7122074 [00:37<00:00, 187465.16it/s]\n",
      "100%|█████████████████████████████████████████████████| 7122074/7122074 [00:38<00:00, 183417.69it/s]\n",
      "100%|█████████████████████████████████████████████████| 7122074/7122074 [00:37<00:00, 189488.93it/s]\n"
     ]
    },
    {
     "name": "stdout",
     "output_type": "stream",
     "text": [
      "shape of beers dataset : (396690, 16)\n",
      "shape of breweries dataset: (24189, 4)\n",
      "shape of users dataset: (70172, 7)\n"
     ]
    }
   ],
   "source": [
    "rb_beers, rb_breweries, rb_users = load_beers_breweries_users(\"./data/RateBeer\")\n",
    "print(f'shape of beers dataset : {rb_beers.shape}\\nshape of breweries dataset: {rb_breweries.shape}\\nshape of users dataset: {rb_users.shape}')\n",
    "\n",
    "rb_beers = add_review_columns(\"./data/RateBeer/reviews.txt\", rb_beers, by=\"beer_id\")\n",
    "rb_users = add_review_columns(\"./data/RateBeer/reviews.txt\", rb_users, by=\"user_id\")\n",
    "print(f'shape of beers dataset : {rb_beers.shape}\\nshape of breweries dataset: {rb_breweries.shape}\\nshape of users dataset: {rb_users.shape}')"
   ]
  },
  {
   "cell_type": "code",
   "execution_count": 3,
   "id": "c2ee4121-ebad-4617-b8b8-ee0fa7da29fb",
   "metadata": {},
   "outputs": [
    {
     "data": {
      "text/html": [
       "<div>\n",
       "<style scoped>\n",
       "    .dataframe tbody tr th:only-of-type {\n",
       "        vertical-align: middle;\n",
       "    }\n",
       "\n",
       "    .dataframe tbody tr th {\n",
       "        vertical-align: top;\n",
       "    }\n",
       "\n",
       "    .dataframe thead th {\n",
       "        text-align: right;\n",
       "    }\n",
       "</style>\n",
       "<table border=\"1\" class=\"dataframe\">\n",
       "  <thead>\n",
       "    <tr style=\"text-align: right;\">\n",
       "      <th></th>\n",
       "      <th>beer_id</th>\n",
       "      <th>beer_name</th>\n",
       "      <th>brewery_id</th>\n",
       "      <th>style</th>\n",
       "      <th>nbr_ratings</th>\n",
       "      <th>overall_score</th>\n",
       "      <th>style_score</th>\n",
       "      <th>avg</th>\n",
       "      <th>abv</th>\n",
       "      <th>avg_computed</th>\n",
       "      <th>zscore</th>\n",
       "      <th>nbr_matched_valid_ratings</th>\n",
       "      <th>avg_matched_valid_ratings</th>\n",
       "      <th>location</th>\n",
       "      <th>review_count</th>\n",
       "      <th>avg_overall</th>\n",
       "    </tr>\n",
       "  </thead>\n",
       "  <tbody>\n",
       "    <tr>\n",
       "      <th>0</th>\n",
       "      <td>410549</td>\n",
       "      <td>33 Export (Gabon)</td>\n",
       "      <td>3198</td>\n",
       "      <td>Pale Lager</td>\n",
       "      <td>1</td>\n",
       "      <td>NaN</td>\n",
       "      <td>NaN</td>\n",
       "      <td>2.72</td>\n",
       "      <td>5.0</td>\n",
       "      <td>2.000000</td>\n",
       "      <td>NaN</td>\n",
       "      <td>0</td>\n",
       "      <td>NaN</td>\n",
       "      <td>Gabon</td>\n",
       "      <td>1</td>\n",
       "      <td>8.000000</td>\n",
       "    </tr>\n",
       "    <tr>\n",
       "      <th>1</th>\n",
       "      <td>105273</td>\n",
       "      <td>Castel Beer (Gabon)</td>\n",
       "      <td>3198</td>\n",
       "      <td>Pale Lager</td>\n",
       "      <td>10</td>\n",
       "      <td>5.0</td>\n",
       "      <td>58.0</td>\n",
       "      <td>2.18</td>\n",
       "      <td>5.2</td>\n",
       "      <td>1.910000</td>\n",
       "      <td>NaN</td>\n",
       "      <td>0</td>\n",
       "      <td>NaN</td>\n",
       "      <td>Gabon</td>\n",
       "      <td>10</td>\n",
       "      <td>6.900000</td>\n",
       "    </tr>\n",
       "    <tr>\n",
       "      <th>2</th>\n",
       "      <td>19445</td>\n",
       "      <td>Régab</td>\n",
       "      <td>3198</td>\n",
       "      <td>Pale Lager</td>\n",
       "      <td>27</td>\n",
       "      <td>1.0</td>\n",
       "      <td>22.0</td>\n",
       "      <td>1.83</td>\n",
       "      <td>4.5</td>\n",
       "      <td>1.811111</td>\n",
       "      <td>NaN</td>\n",
       "      <td>0</td>\n",
       "      <td>NaN</td>\n",
       "      <td>Gabon</td>\n",
       "      <td>27</td>\n",
       "      <td>6.592593</td>\n",
       "    </tr>\n",
       "    <tr>\n",
       "      <th>3</th>\n",
       "      <td>155699</td>\n",
       "      <td>Ards Bally Black Stout</td>\n",
       "      <td>13538</td>\n",
       "      <td>Stout</td>\n",
       "      <td>6</td>\n",
       "      <td>NaN</td>\n",
       "      <td>NaN</td>\n",
       "      <td>3.18</td>\n",
       "      <td>4.6</td>\n",
       "      <td>3.866667</td>\n",
       "      <td>0.823699</td>\n",
       "      <td>6</td>\n",
       "      <td>3.866667</td>\n",
       "      <td>Northern Ireland</td>\n",
       "      <td>6</td>\n",
       "      <td>16.333333</td>\n",
       "    </tr>\n",
       "    <tr>\n",
       "      <th>4</th>\n",
       "      <td>239097</td>\n",
       "      <td>Ards Belfast 366</td>\n",
       "      <td>13538</td>\n",
       "      <td>Golden Ale/Blond Ale</td>\n",
       "      <td>1</td>\n",
       "      <td>NaN</td>\n",
       "      <td>NaN</td>\n",
       "      <td>2.79</td>\n",
       "      <td>4.2</td>\n",
       "      <td>3.000000</td>\n",
       "      <td>NaN</td>\n",
       "      <td>0</td>\n",
       "      <td>NaN</td>\n",
       "      <td>Northern Ireland</td>\n",
       "      <td>1</td>\n",
       "      <td>12.000000</td>\n",
       "    </tr>\n",
       "    <tr>\n",
       "      <th>...</th>\n",
       "      <td>...</td>\n",
       "      <td>...</td>\n",
       "      <td>...</td>\n",
       "      <td>...</td>\n",
       "      <td>...</td>\n",
       "      <td>...</td>\n",
       "      <td>...</td>\n",
       "      <td>...</td>\n",
       "      <td>...</td>\n",
       "      <td>...</td>\n",
       "      <td>...</td>\n",
       "      <td>...</td>\n",
       "      <td>...</td>\n",
       "      <td>...</td>\n",
       "      <td>...</td>\n",
       "      <td>...</td>\n",
       "    </tr>\n",
       "    <tr>\n",
       "      <th>396685</th>\n",
       "      <td>189684</td>\n",
       "      <td>Stela Selekt</td>\n",
       "      <td>1107</td>\n",
       "      <td>Pilsener</td>\n",
       "      <td>5</td>\n",
       "      <td>NaN</td>\n",
       "      <td>NaN</td>\n",
       "      <td>2.19</td>\n",
       "      <td>4.7</td>\n",
       "      <td>1.500000</td>\n",
       "      <td>NaN</td>\n",
       "      <td>0</td>\n",
       "      <td>NaN</td>\n",
       "      <td>Albania</td>\n",
       "      <td>5</td>\n",
       "      <td>5.200000</td>\n",
       "    </tr>\n",
       "    <tr>\n",
       "      <th>396686</th>\n",
       "      <td>84884</td>\n",
       "      <td>Hotel Martini Donauer</td>\n",
       "      <td>9355</td>\n",
       "      <td>Pale Lager</td>\n",
       "      <td>1</td>\n",
       "      <td>NaN</td>\n",
       "      <td>NaN</td>\n",
       "      <td>2.77</td>\n",
       "      <td>NaN</td>\n",
       "      <td>2.900000</td>\n",
       "      <td>NaN</td>\n",
       "      <td>0</td>\n",
       "      <td>NaN</td>\n",
       "      <td>Albania</td>\n",
       "      <td>1</td>\n",
       "      <td>12.000000</td>\n",
       "    </tr>\n",
       "    <tr>\n",
       "      <th>396687</th>\n",
       "      <td>93783</td>\n",
       "      <td>Birra Rozafa</td>\n",
       "      <td>9928</td>\n",
       "      <td>Pale Lager</td>\n",
       "      <td>1</td>\n",
       "      <td>NaN</td>\n",
       "      <td>NaN</td>\n",
       "      <td>2.64</td>\n",
       "      <td>NaN</td>\n",
       "      <td>2.000000</td>\n",
       "      <td>NaN</td>\n",
       "      <td>0</td>\n",
       "      <td>NaN</td>\n",
       "      <td>Albania</td>\n",
       "      <td>1</td>\n",
       "      <td>8.000000</td>\n",
       "    </tr>\n",
       "    <tr>\n",
       "      <th>396688</th>\n",
       "      <td>220897</td>\n",
       "      <td>Svejk Blonde</td>\n",
       "      <td>17155</td>\n",
       "      <td>Pale Lager</td>\n",
       "      <td>4</td>\n",
       "      <td>NaN</td>\n",
       "      <td>NaN</td>\n",
       "      <td>2.70</td>\n",
       "      <td>NaN</td>\n",
       "      <td>2.500000</td>\n",
       "      <td>NaN</td>\n",
       "      <td>0</td>\n",
       "      <td>NaN</td>\n",
       "      <td>Albania</td>\n",
       "      <td>4</td>\n",
       "      <td>10.000000</td>\n",
       "    </tr>\n",
       "    <tr>\n",
       "      <th>396689</th>\n",
       "      <td>220898</td>\n",
       "      <td>Svejk Dark</td>\n",
       "      <td>17155</td>\n",
       "      <td>Dunkel/Tmavý</td>\n",
       "      <td>3</td>\n",
       "      <td>NaN</td>\n",
       "      <td>NaN</td>\n",
       "      <td>2.55</td>\n",
       "      <td>NaN</td>\n",
       "      <td>2.133333</td>\n",
       "      <td>NaN</td>\n",
       "      <td>0</td>\n",
       "      <td>NaN</td>\n",
       "      <td>Albania</td>\n",
       "      <td>3</td>\n",
       "      <td>7.666667</td>\n",
       "    </tr>\n",
       "  </tbody>\n",
       "</table>\n",
       "<p>396690 rows × 16 columns</p>\n",
       "</div>"
      ],
      "text/plain": [
       "       beer_id               beer_name  brewery_id                 style  \\\n",
       "0       410549       33 Export (Gabon)        3198            Pale Lager   \n",
       "1       105273     Castel Beer (Gabon)        3198            Pale Lager   \n",
       "2        19445                   Régab        3198            Pale Lager   \n",
       "3       155699  Ards Bally Black Stout       13538                 Stout   \n",
       "4       239097        Ards Belfast 366       13538  Golden Ale/Blond Ale   \n",
       "...        ...                     ...         ...                   ...   \n",
       "396685  189684           Stela Selekt         1107              Pilsener   \n",
       "396686   84884   Hotel Martini Donauer        9355            Pale Lager   \n",
       "396687   93783            Birra Rozafa        9928            Pale Lager   \n",
       "396688  220897            Svejk Blonde       17155            Pale Lager   \n",
       "396689  220898              Svejk Dark       17155          Dunkel/Tmavý   \n",
       "\n",
       "        nbr_ratings  overall_score  style_score   avg  abv  avg_computed  \\\n",
       "0                 1            NaN          NaN  2.72  5.0      2.000000   \n",
       "1                10            5.0         58.0  2.18  5.2      1.910000   \n",
       "2                27            1.0         22.0  1.83  4.5      1.811111   \n",
       "3                 6            NaN          NaN  3.18  4.6      3.866667   \n",
       "4                 1            NaN          NaN  2.79  4.2      3.000000   \n",
       "...             ...            ...          ...   ...  ...           ...   \n",
       "396685            5            NaN          NaN  2.19  4.7      1.500000   \n",
       "396686            1            NaN          NaN  2.77  NaN      2.900000   \n",
       "396687            1            NaN          NaN  2.64  NaN      2.000000   \n",
       "396688            4            NaN          NaN  2.70  NaN      2.500000   \n",
       "396689            3            NaN          NaN  2.55  NaN      2.133333   \n",
       "\n",
       "          zscore  nbr_matched_valid_ratings  avg_matched_valid_ratings  \\\n",
       "0            NaN                          0                        NaN   \n",
       "1            NaN                          0                        NaN   \n",
       "2            NaN                          0                        NaN   \n",
       "3       0.823699                          6                   3.866667   \n",
       "4            NaN                          0                        NaN   \n",
       "...          ...                        ...                        ...   \n",
       "396685       NaN                          0                        NaN   \n",
       "396686       NaN                          0                        NaN   \n",
       "396687       NaN                          0                        NaN   \n",
       "396688       NaN                          0                        NaN   \n",
       "396689       NaN                          0                        NaN   \n",
       "\n",
       "                location  review_count  avg_overall  \n",
       "0                  Gabon             1     8.000000  \n",
       "1                  Gabon            10     6.900000  \n",
       "2                  Gabon            27     6.592593  \n",
       "3       Northern Ireland             6    16.333333  \n",
       "4       Northern Ireland             1    12.000000  \n",
       "...                  ...           ...          ...  \n",
       "396685           Albania             5     5.200000  \n",
       "396686           Albania             1    12.000000  \n",
       "396687           Albania             1     8.000000  \n",
       "396688           Albania             4    10.000000  \n",
       "396689           Albania             3     7.666667  \n",
       "\n",
       "[396690 rows x 16 columns]"
      ]
     },
     "execution_count": 3,
     "metadata": {},
     "output_type": "execute_result"
    }
   ],
   "source": [
    "rb_beers"
   ]
  },
  {
   "cell_type": "markdown",
   "id": "28336d02-76cd-4840-8000-f51c4a0f8e21",
   "metadata": {},
   "source": [
    "- User data : We drop users with duplicate user ids. The only missing values are locations and join dates, but we don't drop these users as the reviews they wrote are still valuable even if we won't be able to visualize their location for example.\n",
    "\n",
    "- Beer data : There are no duplicate beer ids. We drop columns with too many missing values and those that are related to reviews, which we will recompute when needed using our data, as we don't know how these columns were computed and they don't always correspond to our data. Note that we keep abv (alchohol by volume) as it will be useful for later analysis.\n",
    "\n",
    "- Brewery data : There are no duplicate ids and no missing values, so we don't do anything."
   ]
  },
  {
   "cell_type": "markdown",
   "id": "961a49b5-a71c-4039-a5c7-818aeb5f38d1",
   "metadata": {},
   "source": [
    "##### users dataset"
   ]
  },
  {
   "cell_type": "code",
   "execution_count": 4,
   "id": "0b233d9f-7078-460b-972b-4bbc551d3353",
   "metadata": {
    "scrolled": true
   },
   "outputs": [],
   "source": [
    "duplicates_idx = rb_users.duplicated(subset='user_id', keep=False)\n",
    "# save dropped users, so we can ignore their reviews later if needed\n",
    "#data_path = \"./data/RateBeer/ignore_users.csv\"\n",
    "#rb_users[duplicates_idx][\"user_id\"].to_csv(data_path)"
   ]
  },
  {
   "cell_type": "code",
   "execution_count": 5,
   "id": "4860cdaa-bcc8-4e24-92d6-92cc7358ee4d",
   "metadata": {},
   "outputs": [
    {
     "name": "stdout",
     "output_type": "stream",
     "text": [
      "Cheking number of missing values in each columns of rb_users:\n"
     ]
    },
    {
     "data": {
      "text/plain": [
       "nbr_ratings         0\n",
       "user_id             0\n",
       "user_name           0\n",
       "joined             30\n",
       "location        19575\n",
       "review_count        0\n",
       "avg_overall         0\n",
       "dtype: int64"
      ]
     },
     "execution_count": 5,
     "metadata": {},
     "output_type": "execute_result"
    }
   ],
   "source": [
    "#dropping dupliacte users in rb_users\n",
    "rb_users = rb_users[~rb_users.duplicated(subset='user_id', keep=False)]\n",
    "print(\"Cheking number of missing values in each columns of rb_users:\")\n",
    "rb_users.isnull().sum()"
   ]
  },
  {
   "cell_type": "markdown",
   "id": "d83de4e9-a602-4025-a854-8f728375849e",
   "metadata": {},
   "source": [
    "##### beers dataset"
   ]
  },
  {
   "cell_type": "code",
   "execution_count": 6,
   "id": "8ddc36c5-1ae4-4cfd-9312-1a2d8d84e17f",
   "metadata": {},
   "outputs": [
    {
     "name": "stdout",
     "output_type": "stream",
     "text": [
      "number of duplicate beer ids in rb_beers:\n"
     ]
    },
    {
     "data": {
      "text/plain": [
       "0"
      ]
     },
     "execution_count": 6,
     "metadata": {},
     "output_type": "execute_result"
    }
   ],
   "source": [
    "print(\"number of duplicate beer ids in rb_beers:\")\n",
    "rb_beers[rb_beers.duplicated(subset='beer_id', keep=False)].shape[0]"
   ]
  },
  {
   "cell_type": "code",
   "execution_count": 7,
   "id": "e6e97d4d-e253-431c-9817-81ff451cd825",
   "metadata": {},
   "outputs": [
    {
     "name": "stdout",
     "output_type": "stream",
     "text": [
      "number of missing values in each columns of rb_beers:\n"
     ]
    },
    {
     "data": {
      "text/plain": [
       "beer_id                           0\n",
       "beer_name                         0\n",
       "brewery_id                        0\n",
       "style                             0\n",
       "nbr_ratings                       0\n",
       "overall_score                292662\n",
       "style_score                  292622\n",
       "avg                            1043\n",
       "abv                           36732\n",
       "avg_computed                      0\n",
       "zscore                       354462\n",
       "nbr_matched_valid_ratings         0\n",
       "avg_matched_valid_ratings    354462\n",
       "location                          0\n",
       "review_count                      0\n",
       "avg_overall                       0\n",
       "dtype: int64"
      ]
     },
     "execution_count": 7,
     "metadata": {},
     "output_type": "execute_result"
    }
   ],
   "source": [
    "print(\"number of missing values in each columns of rb_beers:\")\n",
    "rb_beers.isnull().sum()"
   ]
  },
  {
   "cell_type": "code",
   "execution_count": 8,
   "id": "5173f116-a6f0-407c-b99f-0e96ee6599f0",
   "metadata": {},
   "outputs": [],
   "source": [
    "drop_columns = [\n",
    "    \"overall_score\", \"style_score\", \"zscore\", \"nbr_matched_valid_ratings\", \"avg_matched_valid_ratings\"\n",
    "]\n",
    "rb_beers = rb_beers.drop(columns=drop_columns)"
   ]
  },
  {
   "cell_type": "markdown",
   "id": "8d549274-bf21-40dd-a0f9-53eace0e4e27",
   "metadata": {},
   "source": [
    "##### breweries dataset"
   ]
  },
  {
   "cell_type": "code",
   "execution_count": 9,
   "id": "92b9ae58-02bc-472d-ba01-a3012ccb3197",
   "metadata": {},
   "outputs": [
    {
     "name": "stdout",
     "output_type": "stream",
     "text": [
      "number of duplicate brewery ids in rb_breweries:\n"
     ]
    },
    {
     "data": {
      "text/plain": [
       "0"
      ]
     },
     "execution_count": 9,
     "metadata": {},
     "output_type": "execute_result"
    }
   ],
   "source": [
    "print(\"number of duplicate brewery ids in rb_breweries:\")\n",
    "rb_breweries[rb_breweries.duplicated(subset='id', keep=False)].shape[0]"
   ]
  },
  {
   "cell_type": "code",
   "execution_count": 10,
   "id": "802451be-fb9e-411e-9c10-f101c4ac433c",
   "metadata": {},
   "outputs": [
    {
     "name": "stdout",
     "output_type": "stream",
     "text": [
      "number of missing values in each columns of rb_breweries:\n"
     ]
    },
    {
     "data": {
      "text/plain": [
       "id           0\n",
       "location     0\n",
       "name         0\n",
       "nbr_beers    0\n",
       "dtype: int64"
      ]
     },
     "execution_count": 10,
     "metadata": {},
     "output_type": "execute_result"
    }
   ],
   "source": [
    "print(\"number of missing values in each columns of rb_breweries:\")\n",
    "rb_breweries.isnull().sum()"
   ]
  },
  {
   "cell_type": "code",
   "execution_count": 11,
   "id": "641af383-162a-42bd-95b8-a384371f11a7",
   "metadata": {},
   "outputs": [
    {
     "data": {
      "text/plain": [
       "((396690, 11), (24189, 4), (70112, 7))"
      ]
     },
     "execution_count": 11,
     "metadata": {},
     "output_type": "execute_result"
    }
   ],
   "source": [
    "rb_beers.shape, rb_breweries.shape, rb_users.shape"
   ]
  },
  {
   "cell_type": "code",
   "execution_count": 12,
   "id": "cf198c79-0ec3-4c32-a172-f49cea8145cd",
   "metadata": {},
   "outputs": [],
   "source": [
    "import os\n",
    "\n",
    "directory = \"./data/RateBeer_processed\"\n",
    "if not os.path.exists(directory):\n",
    "    os.makedirs(directory)\n",
    "\n",
    "rb_beers.to_csv(\"./data/RateBeer_processed/beers.csv\", index=False)\n",
    "rb_breweries.to_csv(\"./data/RateBeer_processed/breweries.csv\", index=False)\n",
    "rb_users.to_csv(\"./data/RateBeer_processed/users.csv\", index=False)"
   ]
  },
  {
   "cell_type": "code",
   "execution_count": null,
   "id": "2d29910c-b750-4d33-9faf-9d7e696a5536",
   "metadata": {},
   "outputs": [],
   "source": []
  },
  {
   "cell_type": "code",
   "execution_count": 13,
   "id": "f7603cf3-27e9-4d9f-80e3-8739415f68a1",
   "metadata": {},
   "outputs": [
    {
     "data": {
      "text/plain": [
       "(396690, 11)"
      ]
     },
     "execution_count": 13,
     "metadata": {},
     "output_type": "execute_result"
    }
   ],
   "source": [
    "beers = pd.read_csv(\"./data/RateBeer_processed/beers.csv\")\n",
    "beers[\"beer_id\"] = beers[\"beer_id\"].astype(\"string\")\n",
    "beers.shape"
   ]
  },
  {
   "cell_type": "code",
   "execution_count": 14,
   "id": "237b088f-5419-461d-ad6d-884aaa802106",
   "metadata": {},
   "outputs": [
    {
     "data": {
      "image/png": "[encoded data removed]",
      "text/plain": [
       "<Figure size 900x200 with 1 Axes>"
      ]
     },
     "metadata": {},
     "output_type": "display_data"
    }
   ],
   "source": [
    "plt.figure(figsize=(9, 2))\n",
    "beers[\"review_count\"].hist(bins=100)\n",
    "plt.yscale(\"log\")"
   ]
  },
  {
   "cell_type": "code",
   "execution_count": 15,
   "id": "a44a0e7e-3506-44b8-bfb5-074904b4473a",
   "metadata": {},
   "outputs": [
    {
     "data": {
      "text/plain": [
       "((566, 11), 947257)"
      ]
     },
     "execution_count": 15,
     "metadata": {},
     "output_type": "execute_result"
    }
   ],
   "source": [
    "popular_beers = beers[beers[\"review_count\"] > 1000]\n",
    "popular_beers.shape, popular_beers[\"review_count\"].sum() # 566 beers, 1M reviews"
   ]
  },
  {
   "cell_type": "code",
   "execution_count": 16,
   "id": "5202efc4-c294-4f60-a40d-5165f09a2c5f",
   "metadata": {
    "scrolled": true
   },
   "outputs": [],
   "source": [
    "popular_beers_id = list(popular_beers[\"beer_id\"])"
   ]
  },
  {
   "cell_type": "code",
   "execution_count": 17,
   "id": "97363653-8b89-48f2-b32d-7caa35cd2ce6",
   "metadata": {},
   "outputs": [
    {
     "name": "stderr",
     "output_type": "stream",
     "text": [
      "100%|█████████████████████████████████████████████████| 7122074/7122074 [00:59<00:00, 120043.06it/s]\n"
     ]
    }
   ],
   "source": [
    "popular_beers_reviews = [r for r in iter_reviews(\"./data/RateBeer/reviews.txt\", do_cast=True)\n",
    "                         if r[\"beer_id\"] in popular_beers_id]"
   ]
  },
  {
   "cell_type": "code",
   "execution_count": 18,
   "id": "1812d166-0289-4e53-b1e8-f77b1c0b44ef",
   "metadata": {},
   "outputs": [
    {
     "data": {
      "text/plain": [
       "947257"
      ]
     },
     "execution_count": 18,
     "metadata": {},
     "output_type": "execute_result"
    }
   ],
   "source": [
    "len(popular_beers_reviews)"
   ]
  },
  {
   "cell_type": "code",
   "execution_count": 22,
   "id": "ada0c1fa-ea84-4b78-af06-406e42adc190",
   "metadata": {},
   "outputs": [
    {
     "name": "stderr",
     "output_type": "stream",
     "text": [
      "100%|██████████████████████████████████████████████████████| 947257/947257 [32:10<00:00, 490.74it/s]\n"
     ]
    },
    {
     "data": {
      "text/plain": [
       "0.055327118194956594"
      ]
     },
     "execution_count": 22,
     "metadata": {},
     "output_type": "execute_result"
    }
   ],
   "source": [
    "import langid\n",
    "\n",
    "# non-english reviews have encoding issues and unique words that may bias our analysis (eg tf-idf), indicate that\n",
    "non_english = 0\n",
    "for review in tqdm(popular_beers_reviews):\n",
    "    language, _ = langid.classify(review[\"text\"])\n",
    "    review[\"language\"] = language\n",
    "    if language != \"en\":\n",
    "        non_english += 1\n",
    "\n",
    "non_english / len(popular_beers_reviews) # ~5% non-english reviews"
   ]
  },
  {
   "cell_type": "code",
   "execution_count": 23,
   "id": "7b63a4f6-edcc-424b-84e5-8f7395430341",
   "metadata": {},
   "outputs": [
    {
     "data": {
      "text/html": [
       "<div>\n",
       "<style scoped>\n",
       "    .dataframe tbody tr th:only-of-type {\n",
       "        vertical-align: middle;\n",
       "    }\n",
       "\n",
       "    .dataframe tbody tr th {\n",
       "        vertical-align: top;\n",
       "    }\n",
       "\n",
       "    .dataframe thead th {\n",
       "        text-align: right;\n",
       "    }\n",
       "</style>\n",
       "<table border=\"1\" class=\"dataframe\">\n",
       "  <thead>\n",
       "    <tr style=\"text-align: right;\">\n",
       "      <th></th>\n",
       "      <th>beer_name</th>\n",
       "      <th>beer_id</th>\n",
       "      <th>brewery_name</th>\n",
       "      <th>brewery_id</th>\n",
       "      <th>style</th>\n",
       "      <th>abv</th>\n",
       "      <th>date</th>\n",
       "      <th>user_name</th>\n",
       "      <th>user_id</th>\n",
       "      <th>appearance</th>\n",
       "      <th>aroma</th>\n",
       "      <th>palate</th>\n",
       "      <th>taste</th>\n",
       "      <th>overall</th>\n",
       "      <th>rating</th>\n",
       "      <th>text</th>\n",
       "      <th>language</th>\n",
       "    </tr>\n",
       "  </thead>\n",
       "  <tbody>\n",
       "    <tr>\n",
       "      <th>0</th>\n",
       "      <td>Tiger Beer</td>\n",
       "      <td>3126</td>\n",
       "      <td>Singapore Brewery (Asia Pacific Breweries-Hein...</td>\n",
       "      <td>547</td>\n",
       "      <td>Pale Lager</td>\n",
       "      <td>5.0</td>\n",
       "      <td>1500112800</td>\n",
       "      <td>lokis333</td>\n",
       "      <td>375455</td>\n",
       "      <td>3.0</td>\n",
       "      <td>6.0</td>\n",
       "      <td>4.0</td>\n",
       "      <td>7.0</td>\n",
       "      <td>12.0</td>\n",
       "      <td>3.2</td>\n",
       "      <td>Golden color with medium white foam. Aromas of...</td>\n",
       "      <td>en</td>\n",
       "    </tr>\n",
       "    <tr>\n",
       "      <th>1</th>\n",
       "      <td>Tiger Beer</td>\n",
       "      <td>3126</td>\n",
       "      <td>Singapore Brewery (Asia Pacific Breweries-Hein...</td>\n",
       "      <td>547</td>\n",
       "      <td>Pale Lager</td>\n",
       "      <td>5.0</td>\n",
       "      <td>1500026400</td>\n",
       "      <td>sebsky</td>\n",
       "      <td>478504</td>\n",
       "      <td>3.0</td>\n",
       "      <td>2.0</td>\n",
       "      <td>2.0</td>\n",
       "      <td>3.0</td>\n",
       "      <td>6.0</td>\n",
       "      <td>1.6</td>\n",
       "      <td>640 ml bottle @home,bb 31/05/2018.Golden,clear...</td>\n",
       "      <td>en</td>\n",
       "    </tr>\n",
       "  </tbody>\n",
       "</table>\n",
       "</div>"
      ],
      "text/plain": [
       "    beer_name beer_id                                       brewery_name  \\\n",
       "0  Tiger Beer    3126  Singapore Brewery (Asia Pacific Breweries-Hein...   \n",
       "1  Tiger Beer    3126  Singapore Brewery (Asia Pacific Breweries-Hein...   \n",
       "\n",
       "  brewery_id       style  abv        date user_name user_id  appearance  \\\n",
       "0        547  Pale Lager  5.0  1500112800  lokis333  375455         3.0   \n",
       "1        547  Pale Lager  5.0  1500026400    sebsky  478504         3.0   \n",
       "\n",
       "   aroma  palate  taste  overall  rating  \\\n",
       "0    6.0     4.0    7.0     12.0     3.2   \n",
       "1    2.0     2.0    3.0      6.0     1.6   \n",
       "\n",
       "                                                text language  \n",
       "0  Golden color with medium white foam. Aromas of...       en  \n",
       "1  640 ml bottle @home,bb 31/05/2018.Golden,clear...       en  "
      ]
     },
     "execution_count": 23,
     "metadata": {},
     "output_type": "execute_result"
    }
   ],
   "source": [
    "reviews = pd.DataFrame(popular_beers_reviews)\n",
    "reviews.head(2)"
   ]
  },
  {
   "cell_type": "code",
   "execution_count": 24,
   "id": "1158f1eb-314b-4454-91b4-7745ea3a8ec3",
   "metadata": {},
   "outputs": [],
   "source": [
    "reviews.to_csv(\"./data/RateBeer_processed/popular_beers_reviews.csv\", index=False)"
   ]
  },
  {
   "cell_type": "code",
   "execution_count": 25,
   "id": "58e51e5f-5edd-418d-bdee-9cc0d48120ff",
   "metadata": {},
   "outputs": [
    {
     "data": {
      "text/plain": [
       "<Axes: >"
      ]
     },
     "execution_count": 25,
     "metadata": {},
     "output_type": "execute_result"
    },
    {
     "data": {
      "image/png": "[encoded data removed]",
      "text/plain": [
       "<Figure size 900x200 with 1 Axes>"
      ]
     },
     "metadata": {},
     "output_type": "display_data"
    }
   ],
   "source": [
    "plt.figure(figsize=(9, 2))\n",
    "reviews.groupby(\"beer_name\")[\"overall\"].mean().hist(bins=20)"
   ]
  },
  {
   "cell_type": "code",
   "execution_count": null,
   "id": "adf99e32-6080-4fbf-ba30-e0066d041183",
   "metadata": {},
   "outputs": [],
   "source": []
  }
 ],
 "metadata": {
  "kernelspec": {
   "display_name": "Python 3 (ipykernel)",
   "language": "python",
   "name": "python3"
  },
  "language_info": {
   "codemirror_mode": {
    "name": "ipython",
    "version": 3
   },
   "file_extension": ".py",
   "mimetype": "text/x-python",
   "name": "python",
   "nbconvert_exporter": "python",
   "pygments_lexer": "ipython3",
   "version": "3.11.10"
  }
 },
 "nbformat": 4,
 "nbformat_minor": 5
}
