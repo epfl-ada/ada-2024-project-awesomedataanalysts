{
 "cells": [
  {
   "cell_type": "code",
   "execution_count": 1,
   "metadata": {},
   "outputs": [],
   "source": [
    "import numpy as np \n",
    "import pandas as pd "
   ]
  },
  {
   "cell_type": "markdown",
   "metadata": {},
   "source": [
    "### LOAD DATA"
   ]
  },
  {
   "cell_type": "code",
   "execution_count": 4,
   "metadata": {},
   "outputs": [],
   "source": [
    "with open(\"data/RateBeer/ratings.txt\", encoding=\"utf-8\") as input_file:\n",
    "    rb_ratings = [next(input_file) for _ in range(17*5882)] # about 1Mil lines (17 is the number of lines for one review for RateBeer)"
   ]
  },
  {
   "cell_type": "code",
   "execution_count": 5,
   "metadata": {},
   "outputs": [],
   "source": [
    "rb_ratings_text = [x.replace(\"text: \", \"\")\n",
    "                  .replace(\"\\n\", \"\")\n",
    "                  for x in rb_ratings \n",
    "                  if x.startswith(\"text:\")]\n",
    "\n",
    "rb_ratings_num = [round(float(x.replace(\"rating: \", \"\")\n",
    "                  .replace(\"\\n\", \"\")))\n",
    "                  for x in rb_ratings \n",
    "                  if x.startswith(\"rating:\")]\n",
    "\n",
    "rb_beer_name = [x.replace(\"beer_name: \", \"\")\n",
    "                  .replace(\"\\n\", \"\")\n",
    "                  for x in rb_ratings \n",
    "                  if x.startswith(\"beer_name:\")] "
   ]
  },
  {
   "cell_type": "code",
   "execution_count": 6,
   "metadata": {},
   "outputs": [
    {
     "data": {
      "text/plain": [
       "5882"
      ]
     },
     "execution_count": 6,
     "metadata": {},
     "output_type": "execute_result"
    }
   ],
   "source": [
    "dict = {'review': rb_ratings_text, 'score': rb_ratings_num, \"beer_name\" : rb_beer_name} \n",
    "   \n",
    "data = pd.DataFrame(dict)\n",
    "len(data)"
   ]
  },
  {
   "cell_type": "markdown",
   "metadata": {},
   "source": [
    "### REMOVE NON ENGLISH REVIEWS"
   ]
  },
  {
   "cell_type": "code",
   "execution_count": 7,
   "metadata": {},
   "outputs": [],
   "source": [
    "def isEnglish(s):\n",
    "    try:\n",
    "        s.encode(encoding='utf-8').decode('ascii') # detect all non ascii characters => most of the time not english\n",
    "    except UnicodeDecodeError:\n",
    "        return False\n",
    "    else:\n",
    "        return True\n",
    "\n",
    "non_english_lines = [ind for ind, rev in enumerate(data[\"review\"]) if isEnglish(rev)]"
   ]
  },
  {
   "cell_type": "code",
   "execution_count": 8,
   "metadata": {},
   "outputs": [
    {
     "data": {
      "text/plain": [
       "4496"
      ]
     },
     "execution_count": 8,
     "metadata": {},
     "output_type": "execute_result"
    }
   ],
   "source": [
    "data = data.loc[non_english_lines]\n",
    "len(data)"
   ]
  },
  {
   "cell_type": "markdown",
   "metadata": {},
   "source": [
    "### EXTRACTING INFO ABOUT BEER FROM REVIEW (TASK 1)"
   ]
  },
  {
   "cell_type": "markdown",
   "metadata": {},
   "source": [
    "### EMOTIONS REVIEW"
   ]
  },
  {
   "cell_type": "code",
   "execution_count": 95,
   "metadata": {},
   "outputs": [
    {
     "name": "stderr",
     "output_type": "stream",
     "text": [
      "c:\\Python38\\lib\\site-packages\\transformers\\pipelines\\text_classification.py:106: UserWarning: `return_all_scores` is now deprecated,  if want a similar functionality use `top_k=None` instead of `return_all_scores=True` or `top_k=1` instead of `return_all_scores=False`.\n",
      "  warnings.warn(\n"
     ]
    }
   ],
   "source": [
    "from transformers import pipeline\n",
    "\n",
    "classifier = pipeline(\"text-classification\", model=\"j-hartmann/emotion-english-distilroberta-base\", return_all_scores=True)"
   ]
  },
  {
   "cell_type": "code",
   "execution_count": null,
   "metadata": {},
   "outputs": [
    {
     "name": "stdout",
     "output_type": "stream",
     "text": [
      "97.86 % done\r"
     ]
    }
   ],
   "source": [
    "emotions = {\"anger\" : [], \"disgust\": [], 'fear' : [], 'joy' : [], 'neutral' : [], 'sadness' : [], 'surprise' : []}\n",
    "total = len(data)\n",
    "\n",
    "for x in data[\"review\"]:\n",
    "    if len(x) < 500: # The length constraint is because the model has a length constraint\n",
    "        result = classifier(x)[0]\n",
    "        for emotion in result:\n",
    "            emotions[emotion[\"label\"]].append(emotion[\"score\"])\n",
    "        if len(emotions[\"disgust\"]) % 100 == 0:\n",
    "            print(f\"{(len(emotions['disgust'])/total * 100):.2f} % done\", end='\\r') \n",
    "    else:\n",
    "        for y in result:\n",
    "            emotions[emotion[\"label\"]].append(0)"
   ]
  },
  {
   "cell_type": "code",
   "execution_count": null,
   "metadata": {},
   "outputs": [],
   "source": [
    "for label, values in emotions.items():\n",
    "    data[label] = values"
   ]
  },
  {
   "cell_type": "code",
   "execution_count": null,
   "metadata": {},
   "outputs": [],
   "source": [
    "# Create a additionnal column representing the feeling with the maximum score according to the model\n",
    "data[\"max_feel\"] = data[[\"anger\", \"disgust\", 'fear', 'joy', 'neutral', 'sadness', 'surprise']].idxmax(axis=1)"
   ]
  },
  {
   "cell_type": "code",
   "execution_count": 16,
   "metadata": {},
   "outputs": [
    {
     "name": "stdout",
     "output_type": "stream",
     "text": [
      "When the given rating is 0, we have the following emotions (in percentage): \n",
      "max_feel\n",
      "disgust    71.428571\n",
      "neutral    14.285714\n",
      "fear       14.285714\n",
      "Name: proportion, dtype: float64\n",
      "\n",
      "When the given rating is 1, we have the following emotions (in percentage): \n",
      "max_feel\n",
      "disgust     65.217391\n",
      "neutral     13.043478\n",
      "sadness      7.608696\n",
      "joy          7.608696\n",
      "anger        4.347826\n",
      "fear         1.086957\n",
      "surprise     1.086957\n",
      "Name: proportion, dtype: float64\n",
      "\n",
      "When the given rating is 2, we have the following emotions (in percentage): \n",
      "max_feel\n",
      "disgust     59.363057\n",
      "neutral     22.547771\n",
      "joy          7.770701\n",
      "sadness      4.458599\n",
      "anger        3.694268\n",
      "fear         1.656051\n",
      "surprise     0.509554\n",
      "Name: proportion, dtype: float64\n",
      "\n",
      "When the given rating is 3, we have the following emotions (in percentage): \n",
      "max_feel\n",
      "disgust     50.473934\n",
      "neutral     31.674566\n",
      "joy         10.031596\n",
      "anger        4.462875\n",
      "sadness      2.132701\n",
      "fear         0.829384\n",
      "surprise     0.394945\n",
      "Name: proportion, dtype: float64\n",
      "\n",
      "When the given rating is 4, we have the following emotions (in percentage): \n",
      "max_feel\n",
      "disgust     37.784091\n",
      "neutral     35.795455\n",
      "joy         17.803030\n",
      "anger        4.829545\n",
      "sadness      1.515152\n",
      "fear         1.231061\n",
      "surprise     1.041667\n",
      "Name: proportion, dtype: float64\n",
      "\n",
      "When the given rating is 5, we have the following emotions (in percentage): \n",
      "max_feel\n",
      "joy        50.000000\n",
      "neutral    37.500000\n",
      "disgust     8.333333\n",
      "anger       4.166667\n",
      "Name: proportion, dtype: float64\n",
      "\n"
     ]
    }
   ],
   "source": [
    "for i in range(6):\n",
    "    print(f\"When the given rating is {i}, we have the following emotions (in percentage): \")\n",
    "    print(data[data[\"score\"] == i][\"max_feel\"].value_counts(normalize=True) * 100)\n",
    "    print()"
   ]
  },
  {
   "cell_type": "code",
   "execution_count": null,
   "metadata": {},
   "outputs": [
    {
     "data": {
      "image/png": "[encoded data removed]",
      "text/plain": [
       "<Figure size 1000x600 with 1 Axes>"
      ]
     },
     "metadata": {},
     "output_type": "display_data"
    },
    {
     "name": "stdout",
     "output_type": "stream",
     "text": [
      "Spearman correlation for emotions by score: \n",
      "(if p value < 0.05 we can say that a change in score, introducted a predictable increase or decrease in the percentage for that emotion) \n",
      "          Spearman correlation   p-value\n",
      "anger                 0.542857  0.265703\n",
      "disgust              -1.000000  0.000000\n",
      "fear                 -0.714286  0.110787\n",
      "joy                   1.000000  0.000000\n",
      "neutral               0.942857  0.004805\n",
      "sadness              -0.289886  0.577352\n",
      "surprise             -0.115954  0.826848\n"
     ]
    }
   ],
   "source": [
    "import pandas as pd\n",
    "import scipy.stats as stats\n",
    "import matplotlib.pyplot as plt\n",
    "import seaborn as sns\n",
    "\n",
    "# Compute counts for each score and emotion\n",
    "emotion_counts = data.groupby(['score'])[\"max_feel\"].value_counts().unstack(fill_value=0)\n",
    "# Then their percentage in each score class\n",
    "emotion_percentages = emotion_counts.div(emotion_counts.sum(axis=1), axis=0) * 100\n",
    "\n",
    "emotion_percentages.plot(kind='bar', stacked=True, colormap=\"Set2\", figsize=(10, 6))\n",
    "plt.title(\"Percentage of found emotions in each score class\")\n",
    "plt.xlabel(\"Score\")\n",
    "plt.ylabel(\"Emotion percentage\")\n",
    "plt.legend(title=\"Emotion\", bbox_to_anchor=(1.05, 1), loc='upper left')\n",
    "plt.tight_layout()\n",
    "plt.xticks(rotation=0)\n",
    "plt.show()\n",
    "\n",
    "emotion_percentages = emotion_percentages.reset_index()\n",
    "\n",
    "# Compute the spearman correlation for each emotion between its percentage and its score\n",
    "spearman_results = {}\n",
    "for emotion in emotion_counts.columns:\n",
    "    spearman_corr, p_value = stats.spearmanr(emotion_percentages['score'], emotion_percentages[emotion])\n",
    "    spearman_results[emotion] = {'Spearman correlation': spearman_corr, 'p-value': p_value}\n",
    "\n",
    "spearman_df = pd.DataFrame(spearman_results).T\n",
    "print(\"Spearman correlation for emotions by score: \")\n",
    "print(\"(if p value < 0.05 we can say that a change in score, introducted a predictable increase or decrease in the percentage for that emotion) \")\n",
    "print(spearman_df)\n"
   ]
  },
  {
   "cell_type": "markdown",
   "metadata": {},
   "source": [
    "### Defining Negative reviews (TAKS 2)"
   ]
  },
  {
   "cell_type": "markdown",
   "metadata": {},
   "source": [
    "##### NEGATIVITY SCORE"
   ]
  },
  {
   "cell_type": "code",
   "execution_count": null,
   "metadata": {},
   "outputs": [
    {
     "name": "stderr",
     "output_type": "stream",
     "text": [
      "Some weights of the model checkpoint at cardiffnlp/twitter-roberta-base-sentiment-latest were not used when initializing RobertaForSequenceClassification: ['roberta.pooler.dense.bias', 'roberta.pooler.dense.weight']\n",
      "- This IS expected if you are initializing RobertaForSequenceClassification from the checkpoint of a model trained on another task or with another architecture (e.g. initializing a BertForSequenceClassification model from a BertForPreTraining model).\n",
      "- This IS NOT expected if you are initializing RobertaForSequenceClassification from the checkpoint of a model that you expect to be exactly identical (initializing a BertForSequenceClassification model from a BertForSequenceClassification model).\n"
     ]
    },
    {
     "name": "stdout",
     "output_type": "stream",
     "text": [
      "90.50 % done\r"
     ]
    }
   ],
   "source": [
    "from transformers import pipeline\n",
    "\n",
    "# We consider negative review to be those with scores 0, 1 or 2, and we will try to find those that have an extreme vocabulary using a \n",
    "# sentiment analysis model\n",
    "negative_reviews = data[(data[\"score\"] == 0) | (data[\"score\"] == 1) | (data[\"score\"] == 2)]\n",
    "\n",
    "sentiment_task = pipeline(\"sentiment-analysis\", model=\"cardiffnlp/twitter-roberta-base-sentiment-latest\")\n",
    "\n",
    "total = len(negative_reviews)\n",
    "polarity = []\n",
    "for x in negative_reviews[\"review\"]:\n",
    "    if len(x) < 500:\n",
    "        result = sentiment_task(x)[0]\n",
    "        if result[\"label\"] != \"negative\":\n",
    "            polarity.append(0)\n",
    "        else:\n",
    "            polarity.append(result[\"score\"])\n",
    "        if len(polarity) % 100 == 0:\n",
    "            print(f\"{(len(polarity)/total * 100):.2f} % done\", end='\\r') \n",
    "    else:\n",
    "        polarity.append(0)"
   ]
  },
  {
   "cell_type": "code",
   "execution_count": 38,
   "metadata": {},
   "outputs": [
    {
     "name": "stderr",
     "output_type": "stream",
     "text": [
      "C:\\Users\\luka_\\AppData\\Local\\Temp\\ipykernel_32572\\3029497157.py:1: SettingWithCopyWarning: \n",
      "A value is trying to be set on a copy of a slice from a DataFrame.\n",
      "Try using .loc[row_indexer,col_indexer] = value instead\n",
      "\n",
      "See the caveats in the documentation: https://pandas.pydata.org/pandas-docs/stable/user_guide/indexing.html#returning-a-view-versus-a-copy\n",
      "  negative_reviews[\"polarity\"] = polarity\n"
     ]
    }
   ],
   "source": [
    "negative_reviews[\"polarity\"] = polarity"
   ]
  },
  {
   "cell_type": "code",
   "execution_count": 39,
   "metadata": {},
   "outputs": [],
   "source": [
    "top_negative_rev = (-negative_reviews[negative_reviews[\"polarity\"] != 0.0][\"polarity\"]).argsort()"
   ]
  },
  {
   "cell_type": "code",
   "execution_count": null,
   "metadata": {},
   "outputs": [
    {
     "data": {
      "text/plain": [
       "['This is a terrible beer and should be avoided at all costs! The ginseng is so overpowering and gross that it totally kills this beer. Some things just should not be infused into beer! ',\n",
       " 'oh wow, this is awful. Aroma and flavour smacks of adjuncts. Crappy vegetal, grainy flavour, blech, bad stuff.  ',\n",
       " 'not very good at all. looks nice, but tastes awful. golden in colour, big white head, horrible taste.  ',\n",
       " 'Can from FairPrice in Singapore. Golden pour with a huge white head. Plastic, rotten veggies, a drier finish - this is a special kind of bad. ',\n",
       " 'Meh, very bland lager, luckily the bottle cost be just 69p! Just about drinkable but nothing very enjoyable about it at all. Grainy, grassy, bitter and blande. Very pale in colour too. ',\n",
       " 'found this in vietnam.  holy bad beer.  this one pours just like a weak looking pale lager then you drink it and it overfows with bad off flavors and overpowering alcohol presence.   cereal backbone of graininess, slighlty sweet. ',\n",
       " '500 ml bottle. The beer is a dark brown with a khaki head of foam. The beer has an acrid, alcoholic aroma that I just cant get past. I dont know how a beer gets this bad and is sold anyway. The taste is more of that nail polish remover note. Quite bad. ',\n",
       " 'Well this one was definately disappointing.  Strange lager too.   Too bitter not much hop, malt or barley flavor.  Very pale, almost clear with no head.  Not much chance of me ordering up one of these again.   ',\n",
       " 'No aroma. Golden color, thin head. Very little flavor, with a metallic finish. Very thin mouthfeel. At import prices, this is pretty bad. ',\n",
       " 'Draught at Brewerkz Singapore. Golden color, white head. Bitter taste with citrus, a bit of toast, soapy aroma and grass. Bitter finish with citrus, a bit of toast and grass. Pretty horrible stuff. ']"
      ]
     },
     "execution_count": 40,
     "metadata": {},
     "output_type": "execute_result"
    }
   ],
   "source": [
    "# 10 most negative reviews according to our model\n",
    "negative_reviews[negative_reviews[\"polarity\"] != 0.0][\"review\"].iloc[top_negative_rev[:10]].tolist()"
   ]
  },
  {
   "cell_type": "code",
   "execution_count": null,
   "metadata": {},
   "outputs": [
    {
     "data": {
      "text/plain": [
       "['thin feel, rather punget smell standard lager smell mixed with a strong smell of sour malt, Terrable flavor sweetness of a lager mixed with a stronger than usual alcohol taste (odd for such a low ABV) stadard hohum lager color. Stick to a nice pils .   ',\n",
       " 'Amber-ish color with a fine off white head. Dried fruits and to much yeast in this one. Medium + body and a soft carbonation. Tad sweet and a moderate bitterness. Nah not god at all.[On tap at Brewbot in Belfast, Northern Ireland] ',\n",
       " 'A skunky lager with a touch of some citrusy malt which seemed to go well with Chinese food but unfortunately never seemed to go away afterwards. ',\n",
       " \"Not much to say...it's beer, but definitely nothing special. If I was living in Singapore and this was the only beer around, I'd love it. Since I don't, it's not exactly my top pick. \",\n",
       " 'pale, light golden colour.  A sweet fruitiness to it, like a british ale gone bad.  Too fruity, needs more hops.  ',\n",
       " 'No Head, No Aroma. Really just an innoffensive Alcohol Delivery System. Nothing bad, nothing great either. ',\n",
       " '12oz can I brought back from Colombo pours a clear dark gold with no head. Nose has adjuncts, corn, metal, honey. Flavor is super sweet, metal, corn, honey. Sweet finish. Bad. ',\n",
       " '...bottle.  Nothiing amazing here, typical asian lager.  Watery, ricey, but good to knock out spicy foods from the palate, but otherwise, no real reason to drink it. ',\n",
       " 'Gold color, at least has a decent head.  Smells like the typical piss American beer.  This one is saved by a slightly sweet taste, not completely terrible. ',\n",
       " 'Bleh...  another strong corn pale lager from the far east.  This beer is best with lemon and only when eating a huge spicy meal.  Not much going on beyond the corn flavour and aroma.  It does give off a huge white foamy head on its bright golden colour.   ']"
      ]
     },
     "execution_count": 41,
     "metadata": {},
     "output_type": "execute_result"
    }
   ],
   "source": [
    "# 10 most \"positive\" reviews (among negatives) according to our model\n",
    "negative_reviews[negative_reviews[\"polarity\"] != 0.0][\"review\"].iloc[top_negative_rev[-10:]].tolist()"
   ]
  },
  {
   "cell_type": "markdown",
   "metadata": {},
   "source": [
    "We observe a change in vocabulary used between the two lists of reviews, indicating the model is capable of finding reviews that use a more negative vocabulary."
   ]
  },
  {
   "cell_type": "markdown",
   "metadata": {},
   "source": [
    "##### 10 % across beers"
   ]
  },
  {
   "cell_type": "code",
   "execution_count": null,
   "metadata": {},
   "outputs": [
    {
     "name": "stdout",
     "output_type": "stream",
     "text": [
      "                                                 review  score  \\\n",
      "4     Many thanks for this beer to Erzengel. Pours l...      2   \n",
      "5     Many thanks to Erzengel for sharing! Pours cle...      2   \n",
      "8     330ml bottle. 29-05-2014.From Gabon, courtesy ...      2   \n",
      "9     Light yellow with quickly disappearing foam to...      2   \n",
      "10    Pours yellow with a large white head.  Smells ...      2   \n",
      "...                                                 ...    ...   \n",
      "5828  We have a theory here that the reason why they...      0   \n",
      "5835  This beer finish is dry, medium fullness and s...      1   \n",
      "5842  Basically water. Almost no aroma. Bitterness v...      1   \n",
      "5865  Super-clear and golden-straw in color. Has a q...      1   \n",
      "5875        Bland with a sharp, unpleasant bitterness.       1   \n",
      "\n",
      "                beer_name     anger   disgust      fear       joy   neutral  \\\n",
      "4     Castel Beer (Gabon)  0.009796  0.023428  0.002916  0.254752  0.699246   \n",
      "5     Castel Beer (Gabon)  0.020531  0.110960  0.005126  0.105615  0.744949   \n",
      "8     Castel Beer (Gabon)  0.027812  0.752699  0.014237  0.003856  0.146760   \n",
      "9     Castel Beer (Gabon)  0.016349  0.327471  0.014863  0.010883  0.561544   \n",
      "10    Castel Beer (Gabon)  0.021256  0.703956  0.017023  0.014083  0.155805   \n",
      "...                   ...       ...       ...       ...       ...       ...   \n",
      "5828           Tiger Beer  0.209342  0.471834  0.005162  0.003288  0.215265   \n",
      "5835           Tiger Beer  0.014449  0.228745  0.004294  0.149949  0.572500   \n",
      "5842           Tiger Beer  0.009149  0.358313  0.011805  0.045622  0.534734   \n",
      "5865           Tiger Beer  0.015992  0.640999  0.004919  0.008222  0.261261   \n",
      "5875           Tiger Beer  0.191279  0.710167  0.005045  0.001230  0.029493   \n",
      "\n",
      "       sadness  surprise max_feel  \n",
      "4     0.005554  0.004308  neutral  \n",
      "5     0.005973  0.006844  neutral  \n",
      "8     0.051238  0.003398  disgust  \n",
      "9     0.058992  0.009898  neutral  \n",
      "10    0.077169  0.010709  disgust  \n",
      "...        ...       ...      ...  \n",
      "5828  0.009746  0.085362  disgust  \n",
      "5835  0.026635  0.003427  neutral  \n",
      "5842  0.034916  0.005462  neutral  \n",
      "5865  0.065980  0.002628  disgust  \n",
      "5875  0.061755  0.001031  disgust  \n",
      "\n",
      "[2064 rows x 11 columns]\n"
     ]
    }
   ],
   "source": [
    "# Here are the 10 % worst reviews \n",
    "\n",
    "thresholds = data.groupby(\"beer_name\")[\"score\"].quantile(0.1)\n",
    "\n",
    "# We get the 10 % lowest score review by adding the threshold column to each beer and comparing the scores for each review to the treshold\n",
    "low_score_reviews = data.join(thresholds, on=\"beer_name\", rsuffix=\"_threshold\")\n",
    "low_score_reviews = low_score_reviews[low_score_reviews[\"score\"] <= low_score_reviews[\"score_threshold\"]]\n",
    "\n",
    "low_score_reviews = low_score_reviews.drop(columns=[\"score_threshold\"])\n",
    "\n",
    "print(low_score_reviews)"
   ]
  },
  {
   "cell_type": "code",
   "execution_count": 98,
   "metadata": {},
   "outputs": [
    {
     "data": {
      "text/plain": [
       "beer_name                      max_feel\n",
       "ABC Extra Stout                disgust      56.321839\n",
       "                               neutral      28.735632\n",
       "                               joy           6.896552\n",
       "                               anger         5.747126\n",
       "                               sadness       1.149425\n",
       "                                              ...    \n",
       "Whitewater Snake Drive Bitter  disgust      50.000000\n",
       "Whitewater Solstice            disgust      84.615385\n",
       "                               joy           7.692308\n",
       "                               neutral       7.692308\n",
       "Whitewater St Donard           joy         100.000000\n",
       "Name: proportion, Length: 795, dtype: float64"
      ]
     },
     "execution_count": 98,
     "metadata": {},
     "output_type": "execute_result"
    }
   ],
   "source": [
    "# Emotions percentage in 10 % low review\n",
    "low_score_reviews.groupby(\"beer_name\")[\"max_feel\"].value_counts(normalize=True) * 100"
   ]
  },
  {
   "cell_type": "code",
   "execution_count": 97,
   "metadata": {},
   "outputs": [
    {
     "data": {
      "text/plain": [
       "beer_name                      max_feel\n",
       "ABC Extra Stout                disgust      50.340136\n",
       "                               neutral      27.891156\n",
       "                               joy          11.564626\n",
       "                               anger         5.442177\n",
       "                               sadness       3.401361\n",
       "                                              ...    \n",
       "Whitewater Snake Drive Bitter  joy          50.000000\n",
       "Whitewater Solstice            disgust      84.615385\n",
       "                               neutral       7.692308\n",
       "                               joy           7.692308\n",
       "Whitewater St Donard           joy         100.000000\n",
       "Name: proportion, Length: 1081, dtype: float64"
      ]
     },
     "execution_count": 97,
     "metadata": {},
     "output_type": "execute_result"
    }
   ],
   "source": [
    "# Emotions percentage in all reviews\n",
    "data.groupby(\"beer_name\")[\"max_feel\"].value_counts(normalize=True) * 100"
   ]
  }
 ],
 "metadata": {
  "kernelspec": {
   "display_name": "Python 3",
   "language": "python",
   "name": "python3"
  },
  "language_info": {
   "codemirror_mode": {
    "name": "ipython",
    "version": 3
   },
   "file_extension": ".py",
   "mimetype": "text/x-python",
   "name": "python",
   "nbconvert_exporter": "python",
   "pygments_lexer": "ipython3",
   "version": "3.8.6"
  }
 },
 "nbformat": 4,
 "nbformat_minor": 2
}
